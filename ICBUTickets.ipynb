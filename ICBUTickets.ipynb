{
 "cells": [
  {
   "cell_type": "code",
   "execution_count": 1,
   "metadata": {},
   "outputs": [
    {
     "name": "stdout",
     "output_type": "stream",
     "text": [
      "Python 3.4 and above\n"
     ]
    }
   ],
   "source": [
    "#初始化系统\n",
    "\n",
    "import pandas as pd\n",
    "import numpy as np\n",
    "\n",
    "import sys\n",
    "sys.path.append('bert')\n",
    "\n",
    "from run_classifier import IcbuTicketsProcessor "
   ]
  },
  {
   "cell_type": "code",
   "execution_count": 2,
   "metadata": {},
   "outputs": [],
   "source": [
    "#导入训练数据\n",
    "\n",
    "train_examples = IcbuTicketsProcessor().get_train_examples('icbu-tickets')"
   ]
  },
  {
   "cell_type": "code",
   "execution_count": 3,
   "metadata": {},
   "outputs": [
    {
     "name": "stdout",
     "output_type": "stream",
     "text": [
      "train-1461\n",
      "\n",
      "\" 客户ID：jp1251482481kqoq 客户经理反馈，客户发布在Home & Garden > Home Decor > Blinds,\n",
      "Shades & Shutters类目下的产品，在list页面不显示型号 小二核实后发现如ID为50040804335的产品，客户在表单中有填写model\n",
      "number，但是在list确实没有显示 rration-style: initial; text-decoration- margin\"\n",
      "\n",
      "->ICBU/商品/产品发布与管理/咨询服务接口\n",
      "\n",
      "*****\n",
      "\n",
      "train-2364\n",
      "\n",
      "\"客户公司名称：石家庄贝克密封科技股份有限公司 主账号ID：becksealing 问题描述：好几个客户反应直通车后台预估排名和前端不一直 费用都够\n",
      "也在推广中 涉及的功能版块及进入路径（请注明PC或手机）附件：详情页面截图 历史操作记录\n",
      "==========================================\n",
      "操作人工号:[========================================== 操作人工号:[22865]()\n",
      "处理意见:BP后台给出的预估排名和前台主搜实际排名不一致的问题，近期收到多起，非个案，辛苦技术同学跟进协查，是实时排名的显示滞后还是其他什么原因所致？\n",
      "操作时间:2018-11-07 23:55:30 [] nng: border-box; -webkit-tap-highlight- color:\n",
      "rgb(25, 31, 37); font-family: 'Micro\"\n",
      "\n",
      "->ICBU/国际广告/外贸直通车/疑似故障开发\n",
      "\n",
      "*****\n",
      "\n",
      "train-5138\n",
      "\n",
      "\" 客户ID：szshuangyan 阿里卖家版本：1.00.03（最新版） 客户已在设置里，关闭加入云计划和用户体验改善计划； 小二判断：\n",
      "1、已让客户下载安装最新版 2、使用阿里卖家测试，设置里无论选择开启或关闭，每次登陆都会弹窗。 客户诉求：每次登陆时别弹出云安全计划\n",
      ">t-decoration-style: initial; text-decoration-\"\"in: 0px; font-style: inher\"\n",
      "\n",
      "->ICBU/商家工作台/PC端/疑似故障开发\n",
      "\n",
      "*****\n",
      "\n",
      "train-7895\n",
      "\n",
      "\" 客户ID：cnezitown 千牛版本：v6.8.3 问题：IOS系统已打开千牛消息推送开关，客户反馈有新消息不提示。 [千牛.png]()\n",
      "[通知.png]() >div> 辛苦\"\n",
      "\n",
      "->ICBU/商家工作台/无线端/咨询服务接口\n",
      "\n",
      "*****\n",
      "\n",
      "train-4216\n",
      "\n",
      "\" 【member id】jzmj01 【产品id】60751908241\n",
      "【问题描述：】该产品目前为下架状态，客户操作上架时提示“活动商品在活动期间禁止操作”，实际查看客户的活动是三月新贸节的，请帮忙核实此异常 【用户诉求：】\n",
      "【关键要素：会员名，商品ID，订单编号，客户端版本号等等】 【错误文案或错误码：】 【报错时间：】 【报错截图：】 [ [xform-\n",
      "oss-1530694532351-72jpg.jpg]() cct-detail/ST-G7-portable-electric-stair-\n",
      "climber_60699048229.html?spm=a2747.manage.list.16.452971d200Q0q2 建议方案： 附件：\"\n",
      "\n",
      "->ICBU/商品/产品发布与管理/疑似故障开发\n",
      "\n",
      "*****\n",
      "\n"
     ]
    }
   ],
   "source": [
    "#显示训练数据\n",
    "indexes = np.random.randint(0,8000,5)\n",
    "for index in indexes:\n",
    "    example = train_examples[index]\n",
    "    print(example.guid + \"\\n\")\n",
    "    print(IcbuTicketsProcessor().html2text(example.text_a))\n",
    "    print(\"->\" + example.label)\n",
    "    print(\"\\n*****\\n\")"
   ]
  },
  {
   "cell_type": "code",
   "execution_count": 4,
   "metadata": {},
   "outputs": [],
   "source": [
    "#导入测试数据\n",
    "\n",
    "test_examples = IcbuTicketsProcessor().get_test_examples('icbu-tickets')"
   ]
  },
  {
   "cell_type": "code",
   "execution_count": 5,
   "metadata": {},
   "outputs": [
    {
     "name": "stdout",
     "output_type": "stream",
     "text": [
      "[6039 7686 5952 7369 8709]\n",
      "test-6040\n",
      "\n",
      "\" dear 客户订单 >保退汇余额，请帮发起二次退汇。 <div style=\"\"span style=\"\"color: rg\"\n",
      "\n",
      "->ICBU/ICBU\n",
      "\n",
      "*****\n",
      "\n",
      "test-7687\n",
      "\n",
      "\" 顶展视频符合要求，854*480的，45秒，依旧提示不符合16:9，无法提交。关键词：chiffon printed，产品ID：60746381283\n",
      "，算了下比例是1.77这个是在范围之内的，但是无法上传，请核实。 [频连接） >xengine-form.oss-cn-\n",
      "shanghai.aliyuncs.com/common/xform-oss-1530\"\n",
      "\n",
      "->ICBU/ICBU\n",
      "\n",
      "*****\n",
      "\n",
      "test-5953\n",
      "\n",
      "\"\n",
      "【问题描述：】1514184-20，1514184-21两单原为代理出口订单，客户要求我司协助处理内销，目前系统已转2N，且客户已缴内销金，请帮忙将订单转为已完成，谢谢。\n",
      "1514184-20，1514184-21已转内销，申请订单调整为已完成，谢谢~ 【错误文案或错误码：】 【报错时间：】 【报错截图：】\n",
      "ooanXzL4Zp8S0+dhO06OqTSMUU5zszpnymeeJav0iV6ObipaNS0a6+STrxFV0Rj7auzZmRP00do0pUPJY6UaQ+OSR1kIYyzoHjxD8/p4Tx852c1fcZnkxPfyz92uK7v4KS\"\n",
      "\n",
      "->ICBU/ICBU\n",
      "\n",
      "*****\n",
      "\n",
      "test-7370\n",
      "\n",
      "\"【Member ID】cn1501272834\n",
      "【订单号/产品id】所有的一口价产品，比如60707999137，60682495854【客户问题】客户后台有164个一口价产品，全部打不开，最后更新时间都是2月23日。都是上架的，且公司没有在处罚中。\n",
      "【已做判断】1.非处罚中、2.非禁售令 3.客户的非一口价产品可以正常展示比如60733137687 [ [13.jpg]()\n",
      ".com/taskResultTemplate/xform- oss-1523442355132-12.JPG\"\">12.JPG]()\n",
      "ooss-1523441360419-营业执照.jpg\"\"照.jpg\"\n",
      "\n",
      "->ICBU/ICBU\n",
      "\n",
      "*****\n",
      "\n",
      "test-8710\n",
      "\n",
      "\" 【member id】jldhookloop 【产品id】60808296116\n",
      "【问题描述：】客户编辑产品提交时报错系统异常请稍候再试，代码为：0bb3d95715390517665083735e49c5\n",
      "。目前该产品已经保存为草稿，请核实为何产品无法发布。 【用户诉求：】 【报错截图：】 [xform-\n",
      "oss-1539055405888-333jpg.jpg]() [xform-oss-1539055405887-222jpg.jpg]() >r><a\n",
      "href=\"\"//xengine-form.oss-cn-shanghai.aliyuncs.com/common/xform- oss-15391\"\n",
      "\n",
      "->ICBU/ICBU\n",
      "\n",
      "*****\n",
      "\n"
     ]
    }
   ],
   "source": [
    "#显示测试数据\n",
    "indexes = np.random.randint(0,10000,5)\n",
    "print(indexes)\n",
    "\n",
    "for index in indexes:\n",
    "    example = test_examples[index]\n",
    "    print(example.guid + \"\\n\")\n",
    "    print(IcbuTicketsProcessor().html2text(example.text_a))\n",
    "    print(\"->\" + example.label)\n",
    "    print(\"\\n*****\\n\")"
   ]
  },
  {
   "cell_type": "code",
   "execution_count": 6,
   "metadata": {},
   "outputs": [
    {
     "name": "stdout",
     "output_type": "stream",
     "text": [
      "输入测试样本guid：946\n",
      "test-946\n",
      "\n",
      "\"ID：linkwin008 订单号：92181774314969 这个订单是买家主动起草的，订单中的产品名称是：Gigabyte GeForce GTX\n",
      "1080 Ti 11GB graphics card GDDR5X Founders Edition GV-N108TD5X-B Pascal\n",
      "客户后台搜索不到，删除记录中也没有，在bops通过Company\n",
      "ID:和产品名称搜索到这个产品的ID是：60686331215但是在2017年10月已经彻底删除了。但是订单是今年6月的。\n",
      "需要确认买家是通过什么途径点击这个产品去起草的信保订单。\n",
      "看了这个买家历史也就只有这一个订单，且买卖双方在订单前是没有询盘沟通的（买家下单后卖家有主动给买家发过询盘），RFQ也没有。\n",
      "为什么买家可以针对去年已经删除的产品起草信保订单，来源是哪里？ [ <a href=\"\"//xengine-form.oss-cn-\n",
      "shanghai.aliyuncs.com/taskResultTem\"\n",
      "\n"
     ]
    }
   ],
   "source": [
    "#选择测试样本\n",
    "guid = input(\"输入测试样本guid：\")\n",
    "example_id = int(guid) - 1\n",
    "example = test_examples[example_id]\n",
    "print(example.guid + \"\\n\")\n",
    "print(IcbuTicketsProcessor().html2text(example.text_a))"
   ]
  },
  {
   "cell_type": "code",
   "execution_count": 7,
   "metadata": {},
   "outputs": [
    {
     "data": {
      "text/plain": [
       "330"
      ]
     },
     "execution_count": 7,
     "metadata": {},
     "output_type": "execute_result"
    }
   ],
   "source": [
    "#运行预测\n",
    "result = IcbuTicketsProcessor().get_test_result(example_id)\n",
    "len(result)"
   ]
  },
  {
   "cell_type": "code",
   "execution_count": 9,
   "metadata": {},
   "outputs": [
    {
     "name": "stdout",
     "output_type": "stream",
     "text": [
      "6:ICBU/交易/交易管理:0.9999987\n",
      "165:ICBU/资金管理/资金明细/疑似故障开发:1.0021378e-10\n",
      "8:ICBU/交易/交易履行:1.003031e-06\n",
      "184:ICBU/客户通/咨询PD:1.0151975e-09\n",
      "16:ICBU/账号管理/卖家/疑似故障开发:1.0156028e-08\n"
     ]
    }
   ],
   "source": [
    "ranking = np.argsort(result)\n",
    "\n",
    "ranking\n",
    "\n",
    "labels = IcbuTicketsProcessor().get_all_labels('icbu-tickets')\n",
    "\n",
    "for rank in ranking[0:5]:\n",
    "    print(str(rank) + \":\" + labels[rank] + \":\" + str(result[rank]))"
   ]
  },
  {
   "cell_type": "code",
   "execution_count": 10,
   "metadata": {},
   "outputs": [],
   "source": [
    "#加载正确结果\n",
    "actual_results = IcbuTicketsProcessor().get_test_examples_with_label(\"icbu-tickets\")"
   ]
  },
  {
   "cell_type": "code",
   "execution_count": 11,
   "metadata": {},
   "outputs": [
    {
     "name": "stdout",
     "output_type": "stream",
     "text": [
      "6:ICBU/交易/交易管理\n"
     ]
    }
   ],
   "source": [
    "c = actual_results[example_id].label\n",
    "i = labels.index(c)\n",
    "print(str(i) + \":\" + str(c))"
   ]
  }
 ],
 "metadata": {
  "kernelspec": {
   "display_name": "Python 3",
   "language": "python",
   "name": "python3"
  },
  "language_info": {
   "codemirror_mode": {
    "name": "ipython",
    "version": 3
   },
   "file_extension": ".py",
   "mimetype": "text/x-python",
   "name": "python",
   "nbconvert_exporter": "python",
   "pygments_lexer": "ipython3",
   "version": "3.6.7"
  }
 },
 "nbformat": 4,
 "nbformat_minor": 2
}
